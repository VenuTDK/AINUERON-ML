{
 "cells": [
  {
   "cell_type": "markdown",
   "metadata": {},
   "source": [
    "## 1.1 Write a Python Program to implement your own myreduce() function which works exactly like Python's built-in function reduce() "
   ]
  },
  {
   "cell_type": "code",
   "execution_count": 25,
   "metadata": {},
   "outputs": [
    {
     "name": "stdout",
     "output_type": "stream",
     "text": [
      "Sum on the given list using ownreduce function 14\n"
     ]
    }
   ],
   "source": [
    "def ownreduce(func, seq):\n",
    "\n",
    "    res = seq[0]\n",
    "    for item in seq[1:]:\n",
    "        res = func(res, item)\n",
    "    return res\n",
    "\n",
    "def sum(x,y): return x + y\n",
    "\n",
    "print (\"Sum on the given list using ownreduce function \"   + str(ownreduce(sum, [4,5,5])) )"
   ]
  },
  {
   "cell_type": "markdown",
   "metadata": {},
   "source": [
    "## 1.2 Write a Python program to implement your own myfilter() function which works exactly like Python's built-in function filter() "
   ]
  },
  {
   "cell_type": "code",
   "execution_count": 26,
   "metadata": {},
   "outputs": [
    {
     "name": "stdout",
     "output_type": "stream",
     "text": [
      "Filter only positive Integers in giving list using onwfilter function[1, 3, 4, 5]\n"
     ]
    }
   ],
   "source": [
    "def ownfil(func, seq):\n",
    "    res = []\n",
    "\n",
    "    for item in seq:\n",
    "        if func(item):\n",
    "            res.append(item)\n",
    "\n",
    " \n",
    "    return res\n",
    "\n",
    "def ispositive(x):\n",
    "    if (x <= 0): \n",
    "        return False \n",
    "    else: \n",
    "        return True\n",
    "print (\"Filter only positive Integers in giving list using onwfilter function\"  + str(ownfil(ispositive, [0,1,-2,3,4,5])))"
   ]
  },
  {
   "cell_type": "markdown",
   "metadata": {},
   "source": [
    "## 2 Write List comprehensions to produce the following Lists "
   ]
  },
  {
   "cell_type": "code",
   "execution_count": 27,
   "metadata": {},
   "outputs": [
    {
     "name": "stdout",
     "output_type": "stream",
     "text": [
      "['A', 'C', 'A', 'D', 'G', 'I', 'L', 'D']\n"
     ]
    }
   ],
   "source": [
    "acryonym = \"ACADGILD\"\n",
    "List = [ comp for comp in acryonym ]\n",
    "print (str(List))"
   ]
  },
  {
   "cell_type": "code",
   "execution_count": 28,
   "metadata": {},
   "outputs": [
    {
     "name": "stdout",
     "output_type": "stream",
     "text": [
      "['x', 'xx', 'xxx', 'xxxx', 'y', 'yy', 'yyy', 'yyyy', 'z', 'zz', 'zzz', 'zzzz']\n"
     ]
    }
   ],
   "source": [
    "List = ['x','y','z']\n",
    "res = [ item*num for item in List for num in range(1,5)  ]\n",
    "print(str(res))"
   ]
  },
  {
   "cell_type": "code",
   "execution_count": 29,
   "metadata": {},
   "outputs": [
    {
     "name": "stdout",
     "output_type": "stream",
     "text": [
      "['x', 'y', 'z', 'xx', 'yy', 'zz', 'xxx', 'yyy', 'zzz', 'xxxx', 'yyyy', 'zzzz']\n"
     ]
    }
   ],
   "source": [
    "List = ['x','y','z']\n",
    "res = [ item*num for num in range(1,5) for item in List  ]\n",
    "print(str(res))"
   ]
  },
  {
   "cell_type": "code",
   "execution_count": 30,
   "metadata": {},
   "outputs": [
    {
     "name": "stdout",
     "output_type": "stream",
     "text": [
      "[[2], [3], [4], [3], [4], [5], [4], [5], [6]]\n"
     ]
    }
   ],
   "source": [
    "List = [2,3,4]\n",
    "res = [ [item+num] for item in List for num in range(0,3)]\n",
    "print(str(res))"
   ]
  },
  {
   "cell_type": "code",
   "execution_count": 31,
   "metadata": {},
   "outputs": [
    {
     "name": "stdout",
     "output_type": "stream",
     "text": [
      "[[2, 3, 4, 5], [3, 4, 5, 6], [4, 5, 6, 7], [5, 6, 7, 8]]\n"
     ]
    }
   ],
   "source": [
    "List= [2,3,4,5]\n",
    "res = [ [item+num for item in List] for num in range(0,4)  ]\n",
    "print(str(res))"
   ]
  },
  {
   "cell_type": "code",
   "execution_count": 32,
   "metadata": {},
   "outputs": [
    {
     "name": "stdout",
     "output_type": "stream",
     "text": [
      "[(1, 1), (2, 1), (3, 1), (1, 2), (2, 2), (3, 2), (1, 3), (2, 3), (3, 3)]\n"
     ]
    }
   ],
   "source": [
    "List=[1,2,3]\n",
    "res= [ (b,a) for a in List for b in List]\n",
    "print(str(res))"
   ]
  },
  {
   "cell_type": "markdown",
   "metadata": {},
   "source": [
    "## 2 1.1 Write a Python Program(with class concepts) to find the area of the triangle"
   ]
  },
  {
   "cell_type": "code",
   "execution_count": 33,
   "metadata": {},
   "outputs": [
    {
     "name": "stdout",
     "output_type": "stream",
     "text": [
      "Enter the Value of a:20\n",
      "Enter the Value of b:20\n",
      "Enter the Value of c:20\n",
      "173.20508075688772\n"
     ]
    }
   ],
   "source": [
    "import sys\n",
    "import math\n",
    " \n",
    "a = int(input('Enter the Value of a:'))\n",
    "b = int(input('Enter the Value of b:'))\n",
    "c = int(input('Enter the Value of c:'))\n",
    "\n",
    "class parent():\n",
    "    def __init__(self,a,b,c):\n",
    "       self.a = a\n",
    "       self.b = b\n",
    "       self.c = c\n",
    "    def subclass(self):\n",
    "        s=(a + b + c)/2\n",
    "        area=math.sqrt(s*(s-a)*(s-b)*(s-c))\n",
    "        return area\n",
    "func = parent(a, b, c)\n",
    "print(func.subclass())"
   ]
  },
  {
   "cell_type": "markdown",
   "metadata": {},
   "source": [
    "## 1.2 Write a function filter_long_words() that takes a list of words and an integer n\n",
    "## and returns the list of words that are longer than n. "
   ]
  },
  {
   "cell_type": "code",
   "execution_count": 34,
   "metadata": {},
   "outputs": [
    {
     "name": "stdout",
     "output_type": "stream",
     "text": [
      "['quickkkkk', 'brown', 'jumps']\n"
     ]
    }
   ],
   "source": [
    "def filter_long_words(n,words):\n",
    "    empty = []\n",
    "    for i in words:\n",
    "        find = len(i)\n",
    "        if find > n:\n",
    "            empty.append(i)\n",
    "    return empty\n",
    "    \n",
    "    \n",
    "print(filter_long_words(4,['The','quickkkkk','brown','fox','jumps','over','the','lazy','dog']))"
   ]
  },
  {
   "cell_type": "markdown",
   "metadata": {},
   "source": [
    "## Implement a function longestWord() that takes a list of words and returns the longest one"
   ]
  },
  {
   "cell_type": "code",
   "execution_count": 35,
   "metadata": {},
   "outputs": [
    {
     "name": "stdout",
     "output_type": "stream",
     "text": [
      "YOUTUBECHANNEL\n"
     ]
    }
   ],
   "source": [
    "def longestword(word):\n",
    "    empty = []\n",
    "    for i in word:\n",
    "        empty.append((len(i),i))\n",
    "    empty.sort()\n",
    "    return empty[-1][1]\n",
    "print(longestword([\"INEURON\", \"KRISHNAIK\", \"YOUTUBECHANNEL\",\"Sudhanshu\"]))"
   ]
  },
  {
   "cell_type": "markdown",
   "metadata": {},
   "source": [
    "## Write a Python program using function concept that maps  list of words into a list of integers representing the lengths of the corresponding words"
   ]
  },
  {
   "cell_type": "code",
   "execution_count": 36,
   "metadata": {},
   "outputs": [
    {
     "name": "stdout",
     "output_type": "stream",
     "text": [
      "[2, 3, 4, 7]\n"
     ]
    }
   ],
   "source": [
    "def length(word):\n",
    "    empty = []\n",
    "    for i in word:\n",
    "        empty.append(len(i))\n",
    "    empty.sort()\n",
    "    return empty\n",
    "print(length([\"ab\", \"cde\", \"erty\",\"1234566\"]))\n"
   ]
  },
  {
   "cell_type": "markdown",
   "metadata": {},
   "source": [
    "## Write a Python function which takes a character (i.e. a string of length 1) and returns True if it is a vowel, False otherwise."
   ]
  },
  {
   "cell_type": "code",
   "execution_count": 37,
   "metadata": {},
   "outputs": [
    {
     "name": "stdout",
     "output_type": "stream",
     "text": [
      "True\n",
      "False\n"
     ]
    }
   ],
   "source": [
    "Vowel = ['A','E','I','O','U']\n",
    "def check_vowel(char):\n",
    "    return char in Vowel\n",
    "\n",
    "print(check_vowel('O'))\n",
    "print(check_vowel('V'))"
   ]
  }
 ],
 "metadata": {
  "kernelspec": {
   "display_name": "Python 3",
   "language": "python",
   "name": "python3"
  },
  "language_info": {
   "codemirror_mode": {
    "name": "ipython",
    "version": 3
   },
   "file_extension": ".py",
   "mimetype": "text/x-python",
   "name": "python",
   "nbconvert_exporter": "python",
   "pygments_lexer": "ipython3",
   "version": "3.7.4"
  }
 },
 "nbformat": 4,
 "nbformat_minor": 2
}
